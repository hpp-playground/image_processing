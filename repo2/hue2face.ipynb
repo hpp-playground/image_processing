{
  "nbformat": 4,
  "nbformat_minor": 0,
  "metadata": {
    "colab": {
      "name": "hue2face.ipynb",
      "provenance": [],
      "collapsed_sections": []
    },
    "kernelspec": {
      "name": "python3",
      "display_name": "Python 3"
    }
  },
  "cells": [
    {
      "cell_type": "code",
      "metadata": {
        "id": "mZRxX-no1JGx",
        "colab_type": "code",
        "colab": {}
      },
      "source": [
        "img=cv2.imread('./wedding.jpg')#画像の読み込み\n",
        "height=img.shape[0]#画像サイズ\n",
        "width=img.shape[1]\n",
        "SCALE =0.1\n",
        "imgq=cv2.resize(img,(int(width*SCALE),int(height*SCALE))) #1/10の縮小　（元の画像がおおきいので）\n",
        "cv2_imshow(imgq)\n",
        "print (imgq.shape[0])\n",
        "print (imgq.shape[1])\n",
        "\n",
        "\n",
        "imghls=cv2.cvtColor(imgq, cv2.COLOR_BGR2HLS)　#BGRからHLS画像への変換\n",
        "hls = cv2.split(imghls)#HLS画像を各成分に分解\n",
        "\n",
        "hue = hls[0]#色相画像を使う\n",
        "cv2_imshow(hue)\n",
        "hist = cv2.calcHist([hue],[0],None,[256],[0,256])#　cv2.calcHist([image], channel, mask, # of bin, range)\n",
        "print(\"histgram of hue\")\n",
        "plt.plot(hist) # プロット\n",
        "plt.xlim([0,256])\n",
        "plt.show()\n",
        "\n",
        "MAX=175#肌色の範囲　175x2＝３５０°以上：適切な値を探索してみよう\n",
        "MIN=15#肌色の範囲　15x2＝30°以下：適切な値を探索してみよう\n",
        "MASK=200\n",
        "\n",
        "\n",
        "chroma_key= np.zeros((imgq.shape[0],imgq.shape[1], 1), np.uint8)# 画像領域の準備\n",
        "for i in range (imgq.shape[0]):\n",
        "  for j in range (imgq.shape[1]):\n",
        "    if (hue[i][j]>MAX) or (hue[i][j]<MIN):#MAX〜MINを0それ以外をMASKに2値化\n",
        "      chroma_key[i][j]= MASK\n",
        "    else:\n",
        "      chroma_key[i][j]= 0\n",
        "\n",
        "cv2_imshow(chroma_key)\n",
        "#得られたcroma_keyをつかって写真原画像から顔だけ抽出するにはどうしたらいいか？\n",
        "#intensity情報を使うと、白っぽい肌色や暗い肌色も取り除けるかも。\n"
      ],
      "execution_count": 0,
      "outputs": []
    }
  ]
}